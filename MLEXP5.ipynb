{
  "nbformat": 4,
  "nbformat_minor": 0,
  "metadata": {
    "colab": {
      "provenance": []
    },
    "kernelspec": {
      "name": "python3",
      "display_name": "Python 3"
    },
    "language_info": {
      "name": "python"
    }
  },
  "cells": [
    {
      "cell_type": "code",
      "source": [
        "print(\"NAME: THARUN V K\")\n",
        "print(\"REG NO : 212223230231\")"
      ],
      "metadata": {
        "colab": {
          "base_uri": "https://localhost:8080/"
        },
        "id": "quqa1yfnSvr3",
        "outputId": "22bc3faf-019e-4684-c9ec-46ae5c4187f0"
      },
      "execution_count": 16,
      "outputs": [
        {
          "output_type": "stream",
          "name": "stdout",
          "text": [
            "NAME: THARUN V K\n",
            "REG NO : 212223230231\n"
          ]
        }
      ]
    },
    {
      "cell_type": "code",
      "execution_count": 1,
      "metadata": {
        "id": "dUvnhwYZPX-W"
      },
      "outputs": [],
      "source": [
        "# Importing necessary libraries\n",
        "import pandas as pd\n",
        "import numpy as np\n",
        "import matplotlib.pyplot as plt\n",
        "import seaborn as sns\n",
        "from sklearn.model_selection import train_test_split\n",
        "from sklearn.linear_model import Ridge, Lasso, ElasticNet\n",
        "from sklearn.preprocessing import PolynomialFeatures, StandardScaler\n",
        "from sklearn.pipeline import Pipeline\n",
        "from sklearn.metrics import mean_squared_error, r2_score"
      ]
    },
    {
      "cell_type": "code",
      "source": [
        "# Load the dataset\n",
        "data = pd.read_csv(\"CarPrice_Assignment.csv\")"
      ],
      "metadata": {
        "id": "0278OGGxPuOF"
      },
      "execution_count": 2,
      "outputs": []
    },
    {
      "cell_type": "code",
      "source": [
        "# Data preprocessing\n",
        "data = data.drop(['CarName', 'car_ID'], axis=1)\n",
        "data = pd.get_dummies(data, drop_first=True)"
      ],
      "metadata": {
        "id": "PrQtZ6mPPuKt"
      },
      "execution_count": 3,
      "outputs": []
    },
    {
      "cell_type": "code",
      "source": [
        "# Splitting the data into features and target variable\n",
        "X = data.drop('price', axis=1)\n",
        "y = data['price']"
      ],
      "metadata": {
        "id": "mBL-IxgHPuI3"
      },
      "execution_count": 4,
      "outputs": []
    },
    {
      "cell_type": "code",
      "source": [
        "# Standardizing the features and target\n",
        "scaler_X = StandardScaler()\n",
        "scaler_y = StandardScaler()\n",
        "X = scaler_X.fit_transform(X)\n",
        "y = scaler_y.fit_transform(y.values.reshape(-1, 1)).ravel()"
      ],
      "metadata": {
        "id": "ep53QWHRPuG6"
      },
      "execution_count": 5,
      "outputs": []
    },
    {
      "cell_type": "code",
      "source": [
        "# Splitting the dataset into training and testing sets\n",
        "X_train, X_test, y_train, y_test = train_test_split(X, y, test_size=0.2, random_state=42)"
      ],
      "metadata": {
        "id": "nVWDOlp6PuFF"
      },
      "execution_count": 6,
      "outputs": []
    },
    {
      "cell_type": "code",
      "source": [
        "# Define the models and pipelines\n",
        "models = {\n",
        "    \"Ridge\": Ridge(alpha=1.0),\n",
        "    \"Lasso\": Lasso(alpha=1.0),\n",
        "    \"ElasticNet\": ElasticNet(alpha=1.0, l1_ratio=0.5)\n",
        "}"
      ],
      "metadata": {
        "id": "3_Jm__LNPuC7"
      },
      "execution_count": 7,
      "outputs": []
    },
    {
      "cell_type": "code",
      "source": [
        "# Dictionary to store results\n",
        "results = {}"
      ],
      "metadata": {
        "id": "9fkCo0XqPuA_"
      },
      "execution_count": 8,
      "outputs": []
    },
    {
      "cell_type": "code",
      "source": [
        "# Train and evaluate each model\n",
        "for name, model in models.items():\n",
        "    # Create a pipeline with polynomial features and the model\n",
        "    pipeline = Pipeline([\n",
        "        ('poly', PolynomialFeatures(degree=2)),\n",
        "        ('regressor', model)\n",
        "    ])\n",
        "    # Fit the model\n",
        "    pipeline.fit(X_train, y_train)\n",
        "\n",
        "    # Make predictions\n",
        "    predictions = pipeline.predict(X_test)\n",
        "\n",
        "    # Calculate performance metrics\n",
        "    mse = mean_squared_error(y_test, predictions)\n",
        "    r2 = r2_score(y_test, predictions)\n",
        "\n",
        "    # Store results\n",
        "    results[name] = {'MSE': mse, 'R² score': r2}"
      ],
      "metadata": {
        "id": "X4YN7OWqPt-2"
      },
      "execution_count": 9,
      "outputs": []
    },
    {
      "cell_type": "code",
      "source": [
        "# Print results\n",
        "for model_name, metrics in results.items():\n",
        "    print(f\"{model_name} - Mean Squared Error: {metrics['MSE']:.2f}, R² score: {metrics['R² score']:.2f}\")\n"
      ],
      "metadata": {
        "colab": {
          "base_uri": "https://localhost:8080/"
        },
        "id": "6wFp9aCmQGj4",
        "outputId": "e2e4d8e9-0dd6-4c9d-f9d4-c05e662e9bb5"
      },
      "execution_count": 10,
      "outputs": [
        {
          "output_type": "stream",
          "name": "stdout",
          "text": [
            "Ridge - Mean Squared Error: 0.23, R² score: 0.81\n",
            "Lasso - Mean Squared Error: 1.05, R² score: 0.15\n",
            "ElasticNet - Mean Squared Error: 0.65, R² score: 0.47\n"
          ]
        }
      ]
    },
    {
      "cell_type": "code",
      "source": [
        "# Visualization of the results\n",
        "# Convert results to DataFrame for easier plotting\n",
        "results_df = pd.DataFrame(results).T\n",
        "results_df.reset_index(inplace=True)\n",
        "results_df.rename(columns={'index': 'Model'}, inplace=True)"
      ],
      "metadata": {
        "id": "VkhfhW4EQGgT"
      },
      "execution_count": 11,
      "outputs": []
    },
    {
      "cell_type": "code",
      "source": [
        "# Set the figure size\n",
        "plt.figure(figsize=(12, 5))"
      ],
      "metadata": {
        "colab": {
          "base_uri": "https://localhost:8080/",
          "height": 52
        },
        "id": "QD3QRrLEQGeQ",
        "outputId": "ea37832a-8b1e-488b-88b9-c644895fce5c"
      },
      "execution_count": 12,
      "outputs": [
        {
          "output_type": "execute_result",
          "data": {
            "text/plain": [
              "<Figure size 1200x500 with 0 Axes>"
            ]
          },
          "metadata": {},
          "execution_count": 12
        },
        {
          "output_type": "display_data",
          "data": {
            "text/plain": [
              "<Figure size 1200x500 with 0 Axes>"
            ]
          },
          "metadata": {}
        }
      ]
    },
    {
      "cell_type": "code",
      "source": [
        "# Bar plot for MSE\n",
        "plt.subplot(1, 2, 1)\n",
        "sns.barplot(x='Model', y='MSE', hue='Model', data=results_df, palette='viridis', legend=False)\n",
        "plt.title('Mean Squared Error (MSE)')\n",
        "plt.ylabel('MSE')\n",
        "plt.xticks(rotation=45)"
      ],
      "metadata": {
        "colab": {
          "base_uri": "https://localhost:8080/",
          "height": 552
        },
        "id": "9t-hU-GaQGcc",
        "outputId": "e6437e83-5ffa-4d28-ecd6-e24abaa5ed92"
      },
      "execution_count": 13,
      "outputs": [
        {
          "output_type": "execute_result",
          "data": {
            "text/plain": [
              "([0, 1, 2],\n",
              " [Text(0, 0, 'Ridge'), Text(1, 0, 'Lasso'), Text(2, 0, 'ElasticNet')])"
            ]
          },
          "metadata": {},
          "execution_count": 13
        },
        {
          "output_type": "display_data",
          "data": {
            "text/plain": [
              "<Figure size 640x480 with 1 Axes>"
            ],
            "image/png": "[encoded data removed]"
          },
          "metadata": {}
        }
      ]
    },
    {
      "cell_type": "code",
      "source": [
        "# Bar plot for R² score\n",
        "plt.subplot(1, 2, 2)\n",
        "sns.barplot(x='Model', y='R² score', hue='Model', data=results_df, palette='viridis', legend=False)\n",
        "plt.title('R² Score')\n",
        "plt.ylabel('R² Score')\n",
        "plt.xticks(rotation=45)"
      ],
      "metadata": {
        "colab": {
          "base_uri": "https://localhost:8080/",
          "height": 552
        },
        "id": "q2R3pGd8QGaZ",
        "outputId": "e0bf96da-d7c4-4f4f-a003-c4463b868a81"
      },
      "execution_count": 14,
      "outputs": [
        {
          "output_type": "execute_result",
          "data": {
            "text/plain": [
              "([0, 1, 2],\n",
              " [Text(0, 0, 'Ridge'), Text(1, 0, 'Lasso'), Text(2, 0, 'ElasticNet')])"
            ]
          },
          "metadata": {},
          "execution_count": 14
        },
        {
          "output_type": "display_data",
          "data": {
            "text/plain": [
              "<Figure size 640x480 with 1 Axes>"
            ],
            "image/png": "[encoded data removed]"
          },
          "metadata": {}
        }
      ]
    },
    {
      "cell_type": "code",
      "source": [
        "# Show the plots\n",
        "plt.tight_layout()\n",
        "plt.show()\n",
        "\n",
        "\n",
        "print(\"NAME: THARUN V K\")\n",
        "print(\"REG NO : 212223230231\")"
      ],
      "metadata": {
        "colab": {
          "base_uri": "https://localhost:8080/",
          "height": 69
        },
        "id": "38cV0yfDQmRQ",
        "outputId": "446c6c42-f99c-4b1b-d749-7fdf62ab6e16"
      },
      "execution_count": 18,
      "outputs": [
        {
          "output_type": "display_data",
          "data": {
            "text/plain": [
              "<Figure size 640x480 with 0 Axes>"
            ]
          },
          "metadata": {}
        },
        {
          "output_type": "stream",
          "name": "stdout",
          "text": [
            "NAME: THARUN V K\n",
            "REG NO : 212223230231\n"
          ]
        }
      ]
    }
  ]
}